{
 "cells": [
  {
   "cell_type": "code",
   "execution_count": 7,
   "metadata": {},
   "outputs": [],
   "source": [
    "import numpy as np\n",
    "import cv2\n",
    "from matplotlib import pyplot as plt\n",
    "\n",
    "%matplotlib inline\n"
   ]
  },
  {
   "cell_type": "code",
   "execution_count": 6,
   "metadata": {},
   "outputs": [],
   "source": [
    "def readRawImage(url, rows, cols, color=False):\n",
    "    count = rows*cols*3 if color == True else rows*cols\n",
    "    shape = (rows, cols, 3) if color == True else (rows, cols)\n",
    "\n",
    "    fd = open(url, 'rb')\n",
    "    file = np.fromfile(fd, dtype=np.uint8, count=count)\n",
    "    fd.close()\n",
    "    return file.reshape(shape)\n",
    "\n",
    "\n",
    "def showImage(image, title=\"\"):\n",
    "    plt.imshow(image, cmap=plt.cm.gray, vmin=0, vmax=255)\n",
    "    plt.axis(\"off\")\n",
    "    plt.title(title)\n",
    "\n",
    "\n",
    "def showImages(datas, cols):\n",
    "    plt.figure(num=None, figsize=(\n",
    "        18, 18 * (((len(datas) - 1)//cols) + 1) / cols), dpi=94)\n",
    "    for index, data in enumerate(datas):\n",
    "        plt.subplot((len(datas) - 1)//cols + 1, cols, index+1)\n",
    "        plt.imshow(data[\"image\"], cmap=plt.cm.gray, vmin=0, vmax=255)\n",
    "        plt.axis(\"off\")\n",
    "        plt.title(data[\"title\"])\n",
    "\n",
    "\n",
    "def showImagesHistogram(datas, cols):\n",
    "    plt.figure(num=None, figsize=(18, 4), dpi=94)\n",
    "    for index, data in enumerate(datas):\n",
    "        plt.subplot(len(datas)/cols+1, cols, index+1)\n",
    "        plt.hist(data[\"image\"].ravel(), bins=256, range=(0, 255))\n",
    "        plt.title(data[\"title\"])\n",
    "\n",
    "\n",
    "def showImagesCDF(datas, cols):\n",
    "    plt.figure(num=None, figsize=(18, 4), dpi=94)\n",
    "    for index, data in enumerate(datas):\n",
    "        hist, bin_edges = np.histogram(data[\"image\"], bins=256, range=(0, 255))\n",
    "        cdf = np.cumsum(hist/256/256)\n",
    "        plt.subplot(len(datas)/cols+1, cols, index+1)\n",
    "        plt.plot(cdf)\n",
    "        plt.title(data[\"title\"] + \"\\nSuggest threshold: \" +\n",
    "                  str(np.where(cdf > 0.70)[0][0]))\n"
   ]
  },
  {
   "cell_type": "code",
   "execution_count": 3,
   "metadata": {},
   "outputs": [
    {
     "data": {
      "text/plain": [
       "True"
      ]
     },
     "execution_count": 3,
     "metadata": {},
     "output_type": "execute_result"
    }
   ],
   "source": [
    "im = cv2.cvtColor(read_raw_image(\n",
    "    '/usr/src/homeworks/hw4/code/raw/sample1.raw', 256, 256), cv2.COLOR_GRAY2BGR)\n",
    "cv2.imwrite('output/sample2.jpg', im)\n"
   ]
  },
  {
   "cell_type": "code",
   "execution_count": null,
   "metadata": {},
   "outputs": [],
   "source": []
  }
 ],
 "metadata": {
  "kernelspec": {
   "display_name": "Python 3",
   "language": "python",
   "name": "python3"
  },
  "language_info": {
   "codemirror_mode": {
    "name": "ipython",
    "version": 3
   },
   "file_extension": ".py",
   "mimetype": "text/x-python",
   "name": "python",
   "nbconvert_exporter": "python",
   "pygments_lexer": "ipython3",
   "version": "3.7.3"
  }
 },
 "nbformat": 4,
 "nbformat_minor": 2
}
